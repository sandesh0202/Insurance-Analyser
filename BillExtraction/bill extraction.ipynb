{
 "cells": [
  {
   "cell_type": "code",
   "execution_count": 2,
   "metadata": {},
   "outputs": [],
   "source": [
    "from sklearn.feature_extraction.text import CountVectorizer\n",
    "from sklearn.metrics.pairwise import cosine_similarity\n",
    "from PyPDF2 import PdfReader\n",
    "from openai import OpenAI\n",
    "import yaml\n",
    "import json"
   ]
  },
  {
   "cell_type": "code",
   "execution_count": 3,
   "metadata": {},
   "outputs": [],
   "source": [
    "CONFIG_PATH = r\"config.yaml\""
   ]
  },
  {
   "cell_type": "code",
   "execution_count": 4,
   "metadata": {},
   "outputs": [],
   "source": [
    "with open(CONFIG_PATH) as file:\n",
    "    data = yaml.load(file, Loader=yaml.FullLoader)\n",
    "    api_key = data['OPENAI_API_KEY']"
   ]
  },
  {
   "cell_type": "code",
   "execution_count": 5,
   "metadata": {},
   "outputs": [],
   "source": [
    "def get_pdf_data(fpath):\n",
    "    text = \"\"\n",
    "    pdf = PdfReader(fpath)\n",
    "    for page_num in range(len(pdf.pages)):\n",
    "        page = pdf.pages[page_num]\n",
    "        page_text = page.extract_text()\n",
    "        text += page_text\n",
    "    return text"
   ]
  },
  {
   "cell_type": "code",
   "execution_count": 6,
   "metadata": {},
   "outputs": [],
   "source": [
    "def get_llm():\n",
    "    openai_client = OpenAI(\n",
    "        api_key=api_key\n",
    "    )\n",
    "\n",
    "    return openai_client"
   ]
  },
  {
   "cell_type": "code",
   "execution_count": 7,
   "metadata": {},
   "outputs": [],
   "source": [
    "def get_invoice_info_from_llm(data):\n",
    "    llm = get_llm()\n",
    "    prompt = \"Act as an expert in extracting information from medical invoices. You are given with the invoice details of a patient. Go through the given document carefully and extract the 'disease' and the 'expense amount' from the data. Return the data in json format = {'disease':\"\",'expense':\"\"}\"\n",
    "    messages=[\n",
    "        {\"role\": \"system\", \n",
    "        \"content\": prompt}\n",
    "        ]\n",
    "    \n",
    "    user_content = f\"INVOICE DETAILS: {data}\"\n",
    "\n",
    "    messages.append({\"role\": \"user\", \"content\": user_content})\n",
    "\n",
    "    response = llm.chat.completions.create(\n",
    "                model=\"gpt-3.5-turbo\",\n",
    "                messages=messages,\n",
    "                temperature=0.4,\n",
    "                max_tokens=2500)\n",
    "        \n",
    "    data = json.loads(response.choices[0].message.content)\n",
    "\n",
    "    return data"
   ]
  },
  {
   "cell_type": "code",
   "execution_count": 16,
   "metadata": {},
   "outputs": [],
   "source": [
    "def check_claim_validity(patient_disease_info, disease_exclusion_list, threshold=0.4):\n",
    "    vectorizer = CountVectorizer()\n",
    "    patient_info_vector = vectorizer.fit_transform([patient_disease_info])\n",
    "\n",
    "    for disease in disease_exclusion_list:\n",
    "        disease_vector = vectorizer.transform([disease])\n",
    "        similarity = cosine_similarity(patient_info_vector, disease_vector)[0][0]\n",
    "        if similarity > threshold:\n",
    "            claim_status = f\"{patient_disease_info} is present is disease exclusion list. Claim Rejected\"\n",
    "            return claim_status\n",
    "        \n",
    "        claim_status = f\"{patient_disease_info} is not present is disease exclusion list. Claim Accepted\"\n",
    "    \n",
    "    return claim_status"
   ]
  },
  {
   "cell_type": "code",
   "execution_count": 9,
   "metadata": {},
   "outputs": [],
   "source": [
    "data = get_pdf_data(\"Bills/MedicalBill1.pdf\")\n",
    "invoice_details = get_invoice_info_from_llm(data)"
   ]
  },
  {
   "cell_type": "code",
   "execution_count": 10,
   "metadata": {},
   "outputs": [
    {
     "name": "stdout",
     "output_type": "stream",
     "text": [
      "Disease: Bodyache with fever, cold\n",
      "Claim Amount: 3150\n"
     ]
    }
   ],
   "source": [
    "print(f\"Disease: {invoice_details[\"disease\"]}\")\n",
    "print(f\"Claim Amount: {invoice_details[\"expense\"]}\")"
   ]
  },
  {
   "cell_type": "code",
   "execution_count": 17,
   "metadata": {},
   "outputs": [
    {
     "name": "stdout",
     "output_type": "stream",
     "text": [
      "Lung cancer is present is disease exclusion list. Claim Rejected\n"
     ]
    }
   ],
   "source": [
    "disease_exclusion_list = [\"cancer\", \"HIV/AIDS\", \"Parkinson's disease\", \"Alzheimer's disease\"]\n",
    "threshold = 0.4\n",
    "data = check_claim_validity(\"Lung cancer\", disease_exclusion_list, threshold)\n",
    "print(data)"
   ]
  },
  {
   "cell_type": "code",
   "execution_count": 18,
   "metadata": {},
   "outputs": [
    {
     "name": "stdout",
     "output_type": "stream",
     "text": [
      "Bodyache with fever, cold is not present is disease exclusion list. Claim Accepted\n"
     ]
    }
   ],
   "source": [
    "disease_exclusion_list = [\"cancer\", \"HIV/AIDS\", \"Parkinson's disease\", \"Alzheimer's disease\"]\n",
    "threshold = 0.4\n",
    "data = check_claim_validity(invoice_details[\"disease\"], disease_exclusion_list, threshold)\n",
    "print(data)"
   ]
  },
  {
   "cell_type": "code",
   "execution_count": null,
   "metadata": {},
   "outputs": [],
   "source": []
  }
 ],
 "metadata": {
  "kernelspec": {
   "display_name": "openai",
   "language": "python",
   "name": "python3"
  },
  "language_info": {
   "codemirror_mode": {
    "name": "ipython",
    "version": 3
   },
   "file_extension": ".py",
   "mimetype": "text/x-python",
   "name": "python",
   "nbconvert_exporter": "python",
   "pygments_lexer": "ipython3",
   "version": "3.12.2"
  }
 },
 "nbformat": 4,
 "nbformat_minor": 2
}
