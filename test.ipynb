{
 "cells": [
  {
   "cell_type": "code",
   "execution_count": 410,
   "metadata": {},
   "outputs": [],
   "source": [
    "from langchain_community.document_loaders import DirectoryLoader, PyPDFLoader\n",
    "import shutil\n",
    "from langchain_openai import OpenAI\n",
    "from langchain_openai import ChatOpenAI\n",
    "from langchain.prompts import ChatPromptTemplate, PromptTemplate\n",
    "from langchain.schema import Document\n",
    "from langchain.text_splitter import CharacterTextSplitter, RecursiveCharacterTextSplitter\n",
    "from langchain_openai import OpenAIEmbeddings\n",
    "from langchain_community.vectorstores import FAISS\n",
    "from PyPDF2 import PdfReader\n",
    "from langchain_community.document_loaders import DirectoryLoader\n",
    "from langchain.chains import RetrievalQA, LLMChain"
   ]
  },
  {
   "cell_type": "code",
   "execution_count": 411,
   "metadata": {},
   "outputs": [],
   "source": [
    "import os\n",
    "api_key = os.getenv(\"OPENAI_API_KEY\")\n",
    "\n",
    "os.environ[\"OPENAI_API_KEY\"] = api_key\n",
    "#print(api_key)\n",
    "FAISS_PATH = \"/faiss\""
   ]
  },
  {
   "cell_type": "code",
   "execution_count": 412,
   "metadata": {},
   "outputs": [
    {
     "name": "stderr",
     "output_type": "stream",
     "text": [
      "100%|██████████| 2/2 [00:06<00:00,  3.35s/it]\n"
     ]
    }
   ],
   "source": [
    "def get_document_loader():\n",
    "    loader = DirectoryLoader('documents', glob=\"**/*.pdf\", show_progress=True, loader_cls=PyPDFLoader)\n",
    "    docs = loader.load()\n",
    "    return docs\n",
    "\n",
    "docs = get_document_loader()"
   ]
  },
  {
   "cell_type": "code",
   "execution_count": 413,
   "metadata": {},
   "outputs": [],
   "source": [
    "def get_text_chunks(documents: list[Document]):\n",
    "    text_splitter = RecursiveCharacterTextSplitter(\n",
    "        \n",
    "        chunk_size=1000,\n",
    "        chunk_overlap=200,\n",
    "        length_function=len\n",
    "        \n",
    "    )\n",
    "    chunks = text_splitter.split_documents(documents)\n",
    "    return chunks\n",
    "\n",
    "chunks = get_text_chunks(docs)"
   ]
  },
  {
   "cell_type": "code",
   "execution_count": null,
   "metadata": {},
   "outputs": [],
   "source": []
  },
  {
   "cell_type": "code",
   "execution_count": 414,
   "metadata": {},
   "outputs": [
    {
     "name": "stderr",
     "output_type": "stream",
     "text": [
      "100%|██████████| 2/2 [00:05<00:00,  2.91s/it]\n"
     ]
    }
   ],
   "source": [
    "documents = get_document_loader()\n",
    "chunks = get_text_chunks(documents)\n",
    "db = FAISS.from_documents(\n",
    "    chunks, OpenAIEmbeddings()\n",
    ")\n",
    "db"
   ]
  },
  {
   "cell_type": "code",
   "execution_count": 415,
   "metadata": {},
   "outputs": [],
   "source": [
    "retriever = db.as_retriever()"
   ]
  },
  {
   "cell_type": "code",
   "execution_count": 416,
   "metadata": {},
   "outputs": [],
   "source": [
    "llm = ChatOpenAI(model=\"gpt-3.5-turbo\")"
   ]
  },
  {
   "cell_type": "code",
   "execution_count": 417,
   "metadata": {},
   "outputs": [
    {
     "name": "stdout",
     "output_type": "stream",
     "text": [
      "[Document(page_content='Obtain medication  from: Clinic  Pharmacy  \\nRequire d claim documents:  Original  \\nmedicatio n receipt  Prescri ption Original  \\nmedication receipt  \\nDocuments issued by:  Clinic  Clinic  Pharmacy  \\nIssue d ate \\uf0fc  \\uf0fc  \\uf0fc  \\nPatient’s name  \\uf0fc  \\uf0fc  \\uf0fc  \\nService provider’s name and address  \\uf0fc  \\uf0fc  \\uf0fc  \\nDiagnosis  \\uf0fc  \\uf0fc   \\nDescrip tion of med icines  \\uf0fc  \\uf0fc  \\uf0fc  \\nCharg es nature and breakd own \\uf0fc   \\uf0fc  \\nOfficial stamp  and/or  signature of \\nservice provider  \\uf0fc  \\uf0fc  \\uf0fc', metadata={'source': 'documents\\\\MembershipHandbook.pdf', 'page': 19}), Document(page_content='Claim procedures  \\nClaimin g Clinical Benefit,  Maternity Benefit and D ental Benefit  \\n(Not using BHN Card)  \\n \\n 17  Other  useful tips: \\n\\uf09f To claim for reimbursement of the expenses for consultations with an Obstetrician and prenatal \\nor postna tal check -ups on account of p regna ncy under Maternit y Benefit, p lease follow the  \\nabove claim procedu res. \\n\\uf09f All original  receipts mu st include: \\no consultation date  \\no patient’s full name \\no medical service provider ’s name and addres s \\no diagnosis  \\no charges nature and brea kdown  \\no official stamp and/or s ignat ure of medical ser vice provide rs \\n\\uf09f To claim for reimbursement under Chinese Herbalist  Benefit or Chine se Bonesetter Benefit, the \\noriginal receipt together with the original prescription mus t be submitted.  \\n\\uf09f Prescription and me dication receipts must includ e: \\nObtain medication  from: Clinic  Pharmacy  \\nRequire d claim documents:  Original  \\nmedicatio n receipt  Prescri ption Original  \\nmedication receipt', metadata={'source': 'documents\\\\MembershipHandbook.pdf', 'page': 19}), Document(page_content='Claim procedures  \\nClaimin g Clinical Benefit,  Maternity Benefit and D ental Benefit  \\n(Not using BHN Card)  \\n \\n 16  Consult an y medical service pr oviders  or Regis tered Dentists of your choice  \\n\\uf09f Visit any Registered Medical Practitioners, Physiotherapists, Chiropr actor s, Registered Chinese \\nMedicine Practitioners , Diagn ostic Centres , Psychological C ouns elling  or Register ed Dentists . \\n\\uf09f You n eed to consult a  General Pract itioner  or Specia list or the attending Psychiatrist  to obtain a \\nreferral letter before consulting th e following medical service providers:  \\no Specialists  \\no Physiotherapist s \\no Chiropractors  \\no Diagnost ic Centres  (Bupa a lso accepts referral letter  from a Registered Ch inese Medicine \\nPractitioner or Chiropractor  for X -ray only and laboratory tests ) \\no Psychological Counse lling (must be referred by the attending Psychiatrist ) \\n \\nReceive treatment and set tle the medical bill by  yourself fi rst', metadata={'source': 'documents\\\\MembershipHandbook.pdf', 'page': 18}), Document(page_content='Claim proc edures  \\nGeneral informat ion \\n \\n 9  No m atter you choose He althNet  or Non-HealthNet medical s ervice providers, please read this \\nsection carefully.  Details of the claim procedures for the following medical benefits are included in \\nlater sections.  \\n\\uf09f Hospital and Surgical Benefit  \\n\\uf09f Supplementary Major Medical Benefit  (“SMM Benefit”)  (if applicable)  \\n\\uf09f Clinical Benefit  (if applicable)  \\n\\uf09f Maternity Benefit  (if applicable)  \\n\\uf09f Dental Benefit  (if applicable)  \\nYou should read the claim procedures for your entitled benefits as shown in the Schedule of Benefits.  \\n \\nUseful  tips for claims  \\nNo m atter  you u se BHN Card or not, p lease note:  \\n1 Tips on referral letter for Clinical Benefit : \\n   To be entitled to the following  \\nbenefits (if applicable) ….. You need to get a Referral Letter  from:  \\nSpecialist *  General Practiti oner \\nPhysiotherapist / Chiropractor / \\nall Diagnostic Imag ing & Laboratory Tests  General Practitioner / Specialist', metadata={'source': 'documents\\\\MembershipHandbook.pdf', 'page': 11})]\n"
     ]
    }
   ],
   "source": [
    "context = db.similarity_search(\"Give me list of documents required for claim approval\")\n",
    "print(context)"
   ]
  },
  {
   "cell_type": "code",
   "execution_count": 418,
   "metadata": {},
   "outputs": [
    {
     "name": "stdout",
     "output_type": "stream",
     "text": [
      "[Document(page_content='General exclusions  \\n \\n \\n 20  14. Senile Dementia (inclu ding Alzheimer’s disease) and Parkinson’s dis ease . \\n15. Any charges for the procurem ent or use of  spec ial braces a nd appliances , including but not \\nlimited to spe ctacle s, hearing  aids and other equipments such as wheel chairs and crutches.  \\n16. Any treatment or inves tigation related to dental or gum conditions unless it is covered under \\nDental Benefit or Em ergen cy treatment  arising from Accidents or the extra ction of impacted  \\nwisdom te eth during  Hospital Confinement. Fo llow-up treatment from such Hospital \\nConfinement shall not be covered unless it is payable und er Dental Benefit . \\n17. Treatment arisi ng from war, invas ion, acts of  foreign enemies, hostilities (wheth er war be \\ndeclare d or not),  civil war , rebellion, revolution,  insurrection or military or usurped power or \\nterrorist acts. \\n18. Non-medical services , including b ut not limited to guest meals, rad io, telephone, pho tocopy,', metadata={'source': 'documents\\\\MembershipHandbook.pdf', 'page': 22}), Document(page_content='General exclusions  \\n \\n \\n 19  The Scheme sha ll not cover any treatment or expe nses incurred  directly or indi rectly relating to: \\n1. Pre-existing  conditions – means illness or injury that commenced or presented sign(s) and \\nsymptom(s), prior to the member ’s coverage commencement date . \\n2. Treatment , medical s ervice, medication  or investigatio n which is no t Med ically Neces sary.  \\n3. Any illness or bodily injury f or which co mpensa tion is pa yable unde r any laws or regulations  or \\nany other insurance policy or any other  sourc es ex cept to the extent that such charges are  not \\nreimbursed by any such compen sation, insur ance policy or so urces.  \\n4. Any charges for accommodation , nursing a nd ser vices rece ived in he alth hydros, nature cure \\nclinics, convalescent home, rest  home, home for t he ag ed or similar establishments.   \\n5. Any charg es in respect of surgical or non -surgical cosme tic treatment  (unless necessitated by', metadata={'source': 'documents\\\\MembershipHandbook.pdf', 'page': 21}), Document(page_content='involving the use of ropes of guides, parachuting or martial arts.\\n• Costs, which would have been payable if the event giving rise to the intervention of the Service \\nProvider(s), hadnot occurred.\\n• All other exclusions of the Member’s medical insurance contract.\\n• The benefits mentioned apply worldwide outside country of residence unless specified otherwise.\\n• The benefits will become ineffective when Member’s medical insurance contract is terminated for  \\n any reason.The Service Provider(s) may assist the Member to arrange or provide the name, telephone number and \\naddress of the service provider for baby-sitting and/or private nursing and/or temporary domestic \\nhelper service, licensed technician to repair the failure of his/her electricity supply system or a locksmith \\nto open the door or solve relevant problems.The Service Provider(s) may deposit up to HK$40,000 on behalf of the Member as the security required', metadata={'source': 'documents\\\\Worldwide Assistance Programme.pdf', 'page': 2}), Document(page_content='• Pre-existing condition and any illness the symptoms of which would cause an ordinary prudent  \\n person to seek diagnosis, care or treatment before the Member’s coverage effective date, or a  \\n condition for which medical advice or treatment was recommended by a medical practitioner before  \\n the Member’s coverage effective date.\\n• Any services rendered without the authorisation and/or intervention of the Service Provider(s).\\n• Childbirth, pregnancy or any complications within three (3) months from delivery date notwithstanding   \\n that such event may have been accelerated or induced by accident.\\n• Bodily injuries arising directly or indirectly as a result of participation in any professional or competitive   \\n sports, water sports, winter sports, racing, rallies, potholing, rock climbing or mountaineering normally   \\n involving the use of ropes of guides, parachuting or martial arts.\\n• Costs, which would have been payable if the event giving rise to the intervention of the Service', metadata={'source': 'documents\\\\Worldwide Assistance Programme.pdf', 'page': 2})]\n"
     ]
    }
   ],
   "source": [
    "context2 = db.similarity_search(f\"give me list of all general exclusions\")\n",
    "print(context2)"
   ]
  },
  {
   "cell_type": "code",
   "execution_count": 419,
   "metadata": {},
   "outputs": [
    {
     "name": "stdout",
     "output_type": "stream",
     "text": [
      "input_variables=['context', 'context2', 'information'] template='your tasked to create a machine learning model to verify if the health insurance claim should be accepted or rejected. \\nthe end output is to automate the process of verification of documents.\\n\\nbelow is the documents and information required to accept the medical insurance claim at bupa insurance company. your job is to check if the patient has provided all necessary information and documents. \\nread the necessary details from the booklet: {context}.\\nverify if the patient has provided all necessary information and all necessary documents\\nand if you find any incomplete information or required documents are not provided then set INFORMATION criteria as FALSE. \\nif patient has provided all required documents then set INFORMATION criteria as TRUE. \\nwrite list of all required documents for accepting the claim and write if the patient has provided the required documents\\n\\n\\nbelow is the list of the general exclusions of the diseases or conditions that are excluded from the scheme:{context2}.\\nIf any disease of the patient is in the above list of general exclusions set EXCLUSION criteria as FALSE.\\nIf any disease of the patient is not in the above list of general exclusions set EXCLUSION criteria as TRUE.\\n\\n\\nFollowing is the basic information of the patient: {information}. \\nUse this information to verify if the application is valid and to accept or reject the application. \\n\\nif INFORMATION is FALSE reject the claim. if EXCLUSION is FALSE reject the claim. if INFORMATION is TRUE and EXCLUSION is also TRUE then only accept the claim.\\nGenerate a detailed report about\\nthe claim and procedures you followed for accepting or rejecting the claim and the write the information you used for creating the report. \\nCreate a report in the following format\\n-----\\nwrite weather INFORMATION AND EXCLUSION are true or false \\nreject the claim if any of them is false.\\nwrite weather claim is accepted or not\\n\\nExecutive Summary\\n[In Executive Summary provide a Summary of the report.]\\n\\nIntroduction\\n[In Introduction write a paragraph about the aim of this report, what is the current situation of the claim approval.]\\n\\nClaim Details\\n[In Claim Details provide details about the submitted claim]\\n\\nClaim Description\\n[Write a short description about claim]\\n\\nDocument Verification\\n[This section mentions which documents are Submitted and if they are verified.] \\n\\ndocuement summary \\n[In this section write everuthing inside the document, what are the medical reports of the patient]\\n\\nPlease verify for any signs of fraud in the submitted claim if you find the documents required for accepting the claim for the medical treatment.\\n'\n"
     ]
    }
   ],
   "source": [
    "PROMPT = \"\"\"your tasked to create a machine learning model to verify if the health insurance claim should be accepted or rejected. \n",
    "the end output is to automate the process of verification of documents.\n",
    "\n",
    "below is the documents and information required to accept the medical insurance claim at bupa insurance company. your job is to check if the patient has provided all necessary information and documents. \n",
    "read the necessary details from the booklet: {context}.\n",
    "verify if the patient has provided all necessary information and all necessary documents\n",
    "and if you find any incomplete information or required documents are not provided then set INFORMATION criteria as FALSE. \n",
    "if patient has provided all required documents then set INFORMATION criteria as TRUE. \n",
    "write list of all required documents for accepting the claim and write if the patient has provided the required documents\n",
    "\n",
    "\n",
    "below is the list of the general exclusions of the diseases or conditions that are excluded from the scheme:{context2}.\n",
    "If any disease of the patient is in the above list of general exclusions set EXCLUSION criteria as FALSE.\n",
    "If any disease of the patient is not in the above list of general exclusions set EXCLUSION criteria as TRUE.\n",
    "\n",
    "\n",
    "Following is the basic information of the patient: {information}. \n",
    "Use this information to verify if the application is valid and to accept or reject the application. \n",
    "\n",
    "if INFORMATION is FALSE reject the claim. if EXCLUSION is FALSE reject the claim. if INFORMATION is TRUE and EXCLUSION is also TRUE then only accept the claim.\n",
    "Generate a detailed report about\n",
    "the claim and procedures you followed for accepting or rejecting the claim and the write the information you used for creating the report. \n",
    "Create a report in the following format\n",
    "-----\n",
    "write weather INFORMATION AND EXCLUSION are true or false \n",
    "reject the claim if any of them is false.\n",
    "write weather claim is accepted or not\n",
    "\n",
    "Executive Summary\n",
    "[In Executive Summary provide a Summary of the report.]\n",
    "\n",
    "Introduction\n",
    "[In Introduction write a paragraph about the aim of this report, what is the current situation of the claim approval.]\n",
    "\n",
    "Claim Details\n",
    "[In Claim Details provide details about the submitted claim]\n",
    "\n",
    "Claim Description\n",
    "[Write a short description about claim]\n",
    "\n",
    "Document Verification\n",
    "[This section mentions which documents are Submitted and if they are verified.] \n",
    "\n",
    "docuement summary \n",
    "[In this section write everuthing inside the document, what are the medical reports of the patient]\n",
    "\n",
    "Please verify for any signs of fraud in the submitted claim if you find the documents required for accepting the claim for the medical treatment.\n",
    "\"\"\"\n",
    "\n",
    "prompt = PromptTemplate(input_variables=[\"context\", \"context2\", \"information\"], template=PROMPT)\n",
    "\n",
    "print(prompt)"
   ]
  },
  {
   "cell_type": "code",
   "execution_count": 420,
   "metadata": {},
   "outputs": [
    {
     "name": "stdout",
     "output_type": "stream",
     "text": [
      "[\"Patient Name:\\tMr. Satyajit Pattnaik\\nPatient Address:\\tTung Chung, Hong Kong\\nClaim Details \\nClaim Number: CAC-2023-13245.\\nClaim Type: Health Insurance\\nClaim Reason: Parkinson's Disease\\nDate of Service: March 18, 2024\\nMedical Facility: XYZ Hospital\\nMedical Provider: Dr. John Smith\\nTotal Claim Amount: $5,000\\nDescription: Patient with diagnosed Parkinson's underwent an stereotactic surgery and is seeking reimbursement for medical expenses totaling $5000.\\n\\nMedical Bill - \\nPatient Name: Mr. Satyajit Pattnaik\\nPatient Address: Tung Chung, Hong Kong\\n\\nDescription\\tAmount\\nConsultation Fee\\t$200\\nDiagnostic Tests (MRI, CT scan, etc.)\\t$800\\nStereotactic Surgery\\t$3,500\\nMedications\\t$300\\nHospital Room Charges\\t$1,200\\nMiscellaneous Expenses - (e.g., supplies)\\t$0\\nTotal Claim Amount\\t$5,000\\n\\nMedical Report -\\n\\nPatient Information:\\n\\nName: Mr. Satyajit Pattnaik\\nDate of Birth: January 15, 1965\\nGender: Male\\nAddress: Tung Chung, Hong Kong\\nDate of Service: March 18, 2024\\nMedical Facility: XYZ Hospital\\nMedical Provider: Dr. John Smith\\n\\nChief Complaint:\\nMr. Pattnaik presents with a diagnosis of Parkinson's disease and is scheduled for stereotactic surgery due to worsening symptoms and inadequate response to conservative management.\\n\\nHistory of Present Illness:\\nMr. Pattnaik is a 59-year-old male with a past medical history significant for Parkinson's disease diagnosed 8 years ago. He has been experiencing progressive tremors, bradykinesia, rigidity, and postural instability despite optimal medical management, including levodopa therapy. These symptoms have significantly impaired his quality of life and daily functioning.\\n\\nPast Medical History:\\n\\nParkinson's disease (diagnosed in 2016)\\nHypertension\\nHyperlipidemia\\n\\nMedications:\\n\\nLevodopa/carbidopa 250/25 mg, 3 times daily\\nLisinopril 10 mg daily\\nAtorvastatin 20 mg daily\\nAllergies:\\nNo known allergies\\n\\nPhysical Examination:\\nGeneral: Alert and oriented x3, cooperative. No acute distress.\\nNeurological: Presence of bilateral resting tremors, bradykinesia, cogwheel rigidity, and postural instability. Hoehn and Yahr stage 3.\\nOther Systems: Within normal limits\\n\\nDiagnostic Workup:\\nMRI Brain: Mild generalized cerebral atrophy, otherwise unremarkable.\\nCT Scan: No acute intracranial abnormalities. Mild chronic small vessel ischemic changes.\\nOther tests: Routine blood work within normal limits.\\n\\nTreatment Plan:\\nMr. Pattnaik underwent stereotactic surgery on March 18, 2024, under the care of Dr. John Smith. The procedure involved bilateral deep brain stimulation targeting the subthalamic nucleus. The surgery was performed without complications.\\n\\nPostoperative Course:\\nMr. Pattnaik was monitored closely postoperatively for any signs of complications. He was started on a postoperative regimen including adjustments to his anti-Parkinsonian medications. He tolerated the procedure well and showed improvement in his Parkinsonian symptoms during the hospital stay.\\n\\nFollow-up Plan:\\nMr. Pattnaik will follow up with Dr. John Smith in the outpatient clinic in 2 weeks for postoperative assessment and programming of the deep brain stimulation device.\\n\\nPrognosis:\\nThe prognosis for Mr. Pattnaik following stereotactic surgery is expected to be favorable in terms of symptom control and improvement in quality of life. However, continued monitoring and management of Parkinson's disease will be essential for long-term care.\\nSupporting Documents\\t \\nMedical Bill\\tSubmitted above\\nMedical Reports\\tSubmitted above\\nPrescriptions\\tNot Submitted\\nProof of Payment\\tNot Submitted\\nTranslation\\tNot Submitted\\nClaim Submission\\t \\nClaim Form\\tNot Submitted \\nAdditional Information\\tNot Submitted\\n\"]\n"
     ]
    }
   ],
   "source": [
    "\n",
    "information = [\"\"\"Patient Name:\tMr. Satyajit Pattnaik\n",
    "Patient Address:\tTung Chung, Hong Kong\n",
    "Claim Details \n",
    "Claim Number: CAC-2023-13245.\n",
    "Claim Type: Health Insurance\n",
    "Claim Reason: Parkinson's Disease\n",
    "Date of Service: March 18, 2024\n",
    "Medical Facility: XYZ Hospital\n",
    "Medical Provider: Dr. John Smith\n",
    "Total Claim Amount: $5,000\n",
    "Description: Patient with diagnosed Parkinson's underwent an stereotactic surgery and is seeking reimbursement for medical expenses totaling $5000.\n",
    "\n",
    "Medical Bill - \n",
    "Patient Name: Mr. Satyajit Pattnaik\n",
    "Patient Address: Tung Chung, Hong Kong\n",
    "\n",
    "Description\tAmount\n",
    "Consultation Fee\t$200\n",
    "Diagnostic Tests (MRI, CT scan, etc.)\t$800\n",
    "Stereotactic Surgery\t$3,500\n",
    "Medications\t$300\n",
    "Hospital Room Charges\t$1,200\n",
    "Miscellaneous Expenses - (e.g., supplies)\t$0\n",
    "Total Claim Amount\t$5,000\n",
    "\n",
    "Medical Report -\n",
    "\n",
    "Patient Information:\n",
    "\n",
    "Name: Mr. Satyajit Pattnaik\n",
    "Date of Birth: January 15, 1965\n",
    "Gender: Male\n",
    "Address: Tung Chung, Hong Kong\n",
    "Date of Service: March 18, 2024\n",
    "Medical Facility: XYZ Hospital\n",
    "Medical Provider: Dr. John Smith\n",
    "\n",
    "Chief Complaint:\n",
    "Mr. Pattnaik presents with a diagnosis of Parkinson's disease and is scheduled for stereotactic surgery due to worsening symptoms and inadequate response to conservative management.\n",
    "\n",
    "History of Present Illness:\n",
    "Mr. Pattnaik is a 59-year-old male with a past medical history significant for Parkinson's disease diagnosed 8 years ago. He has been experiencing progressive tremors, bradykinesia, rigidity, and postural instability despite optimal medical management, including levodopa therapy. These symptoms have significantly impaired his quality of life and daily functioning.\n",
    "\n",
    "Past Medical History:\n",
    "\n",
    "Parkinson's disease (diagnosed in 2016)\n",
    "Hypertension\n",
    "Hyperlipidemia\n",
    "\n",
    "Medications:\n",
    "\n",
    "Levodopa/carbidopa 250/25 mg, 3 times daily\n",
    "Lisinopril 10 mg daily\n",
    "Atorvastatin 20 mg daily\n",
    "Allergies:\n",
    "No known allergies\n",
    "\n",
    "Physical Examination:\n",
    "General: Alert and oriented x3, cooperative. No acute distress.\n",
    "Neurological: Presence of bilateral resting tremors, bradykinesia, cogwheel rigidity, and postural instability. Hoehn and Yahr stage 3.\n",
    "Other Systems: Within normal limits\n",
    "\n",
    "Diagnostic Workup:\n",
    "MRI Brain: Mild generalized cerebral atrophy, otherwise unremarkable.\n",
    "CT Scan: No acute intracranial abnormalities. Mild chronic small vessel ischemic changes.\n",
    "Other tests: Routine blood work within normal limits.\n",
    "\n",
    "Treatment Plan:\n",
    "Mr. Pattnaik underwent stereotactic surgery on March 18, 2024, under the care of Dr. John Smith. The procedure involved bilateral deep brain stimulation targeting the subthalamic nucleus. The surgery was performed without complications.\n",
    "\n",
    "Postoperative Course:\n",
    "Mr. Pattnaik was monitored closely postoperatively for any signs of complications. He was started on a postoperative regimen including adjustments to his anti-Parkinsonian medications. He tolerated the procedure well and showed improvement in his Parkinsonian symptoms during the hospital stay.\n",
    "\n",
    "Follow-up Plan:\n",
    "Mr. Pattnaik will follow up with Dr. John Smith in the outpatient clinic in 2 weeks for postoperative assessment and programming of the deep brain stimulation device.\n",
    "\n",
    "Prognosis:\n",
    "The prognosis for Mr. Pattnaik following stereotactic surgery is expected to be favorable in terms of symptom control and improvement in quality of life. However, continued monitoring and management of Parkinson's disease will be essential for long-term care.\n",
    "Supporting Documents\t \n",
    "Medical Bill\tSubmitted above\n",
    "Medical Reports\tSubmitted above\n",
    "Prescriptions\tNot Submitted\n",
    "Proof of Payment\tNot Submitted\n",
    "Translation\tNot Submitted\n",
    "Claim Submission\t \n",
    "Claim Form\tNot Submitted \n",
    "Additional Information\tNot Submitted\n",
    "\"\"\"]\n",
    "print(information)"
   ]
  },
  {
   "cell_type": "code",
   "execution_count": 421,
   "metadata": {},
   "outputs": [
    {
     "data": {
      "text/plain": [
       "LLMChain(prompt=PromptTemplate(input_variables=['context', 'context2', 'information'], template='your tasked to create a machine learning model to verify if the health insurance claim should be accepted or rejected. \\nthe end output is to automate the process of verification of documents.\\n\\nbelow is the documents and information required to accept the medical insurance claim at bupa insurance company. your job is to check if the patient has provided all necessary information and documents. \\nread the necessary details from the booklet: {context}.\\nverify if the patient has provided all necessary information and all necessary documents\\nand if you find any incomplete information or required documents are not provided then set INFORMATION criteria as FALSE. \\nif patient has provided all required documents then set INFORMATION criteria as TRUE. \\nwrite list of all required documents for accepting the claim and write if the patient has provided the required documents\\n\\n\\nbelow is the list of the general exclusions of the diseases or conditions that are excluded from the scheme:{context2}.\\nIf any disease of the patient is in the above list of general exclusions set EXCLUSION criteria as FALSE.\\nIf any disease of the patient is not in the above list of general exclusions set EXCLUSION criteria as TRUE.\\n\\n\\nFollowing is the basic information of the patient: {information}. \\nUse this information to verify if the application is valid and to accept or reject the application. \\n\\nif INFORMATION is FALSE reject the claim. if EXCLUSION is FALSE reject the claim. if INFORMATION is TRUE and EXCLUSION is also TRUE then only accept the claim.\\nGenerate a detailed report about\\nthe claim and procedures you followed for accepting or rejecting the claim and the write the information you used for creating the report. \\nCreate a report in the following format\\n-----\\nwrite weather INFORMATION AND EXCLUSION are true or false \\nreject the claim if any of them is false.\\nwrite weather claim is accepted or not\\n\\nExecutive Summary\\n[In Executive Summary provide a Summary of the report.]\\n\\nIntroduction\\n[In Introduction write a paragraph about the aim of this report, what is the current situation of the claim approval.]\\n\\nClaim Details\\n[In Claim Details provide details about the submitted claim]\\n\\nClaim Description\\n[Write a short description about claim]\\n\\nDocument Verification\\n[This section mentions which documents are Submitted and if they are verified.] \\n\\ndocuement summary \\n[In this section write everuthing inside the document, what are the medical reports of the patient]\\n\\nPlease verify for any signs of fraud in the submitted claim if you find the documents required for accepting the claim for the medical treatment.\\n'), llm=ChatOpenAI(client=<openai.resources.chat.completions.Completions object at 0x000001A6126A8590>, async_client=<openai.resources.chat.completions.AsyncCompletions object at 0x000001A612732360>, openai_api_key=SecretStr('**********'), openai_proxy=''))"
      ]
     },
     "execution_count": 421,
     "metadata": {},
     "output_type": "execute_result"
    }
   ],
   "source": [
    "llmchain = LLMChain(llm=llm, prompt= prompt)\n",
    "llmchain"
   ]
  },
  {
   "cell_type": "code",
   "execution_count": 426,
   "metadata": {},
   "outputs": [
    {
     "name": "stdout",
     "output_type": "stream",
     "text": [
      "-----\n",
      "INFORMATION: TRUE\n",
      "EXCLUSION: TRUE\n",
      "CLAIM: ACCEPTED\n",
      "\n",
      "Executive Summary\n",
      "This report verifies the validity of a health insurance claim submitted by Mr. Satyajit Pattnaik for Parkinson's disease treatment. The claim has been accepted based on the verification of necessary information and the absence of any excluded conditions.\n",
      "\n",
      "Introduction\n",
      "The aim of this report is to ensure the accuracy and completeness of the submitted health insurance claim for Mr. Satyajit Pattnaik. The current situation involves reviewing the claim details, verifying the provided documents, and checking for any excluded conditions.\n",
      "\n",
      "Claim Details\n",
      "Patient Name: Mr. Satyajit Pattnaik\n",
      "Claim Number: CAC-2023-13245\n",
      "Claim Type: Health Insurance\n",
      "Claim Reason: Parkinson's Disease\n",
      "Date of Service: March 18, 2024\n",
      "Total Claim Amount: $5,000\n",
      "\n",
      "Claim Description\n",
      "Mr. Pattnaik underwent stereotactic surgery for Parkinson's disease and is seeking reimbursement for medical expenses totaling $5,000.\n",
      "\n",
      "Document Verification\n",
      "- Medical Bill: Submitted\n",
      "- Medical Reports: Submitted\n",
      "- Prescriptions: Not Submitted\n",
      "- Proof of Payment: Not Submitted\n",
      "- Translation: Not Submitted\n",
      "- Claim Form: Not Submitted\n",
      "- Additional Information: Not Submitted\n",
      "\n",
      "Document Summary\n",
      "The submitted medical reports provide detailed information about Mr. Pattnaik's medical history, diagnosis, treatment plan, and postoperative course following stereotactic surgery for Parkinson's disease.\n",
      "\n",
      "Fraud Verification\n",
      "No signs of fraud were found in the submitted claim documents.\n",
      "\n",
      "Overall, based on the verification of necessary information and the absence of excluded conditions, the health insurance claim for Mr. Satyajit Pattnaik is accepted.\n"
     ]
    }
   ],
   "source": [
    "print(llmchain.run({\"context\": context, \"context2\": context2, \"information\": information}))"
   ]
  },
  {
   "cell_type": "code",
   "execution_count": null,
   "metadata": {},
   "outputs": [],
   "source": []
  },
  {
   "cell_type": "code",
   "execution_count": 423,
   "metadata": {},
   "outputs": [
    {
     "data": {
      "text/plain": [
       "'Supporting Documents\\t \\nItemized Medical Bill\\tNot Submitted\\nMedical Reports\\tNot Submitted\\nPrescriptions\\tNot Submitted\\nProof of Payment\\tNot Submitted\\nTranslation\\tNot Submitted\\nClaim Submission\\t \\nClaim Form\\tNot Submitted \\nAdditional Information\\tNot Submitted'"
      ]
     },
     "execution_count": 423,
     "metadata": {},
     "output_type": "execute_result"
    }
   ],
   "source": [
    "\"\"\"Supporting Documents\t \n",
    "Itemized Medical Bill\tNot Submitted\n",
    "Medical Reports\tNot Submitted\n",
    "Prescriptions\tNot Submitted\n",
    "Proof of Payment\tNot Submitted\n",
    "Translation\tNot Submitted\n",
    "Claim Submission\t \n",
    "Claim Form\tNot Submitted \n",
    "Additional Information\tNot Submitted\"\"\""
   ]
  }
 ],
 "metadata": {
  "kernelspec": {
   "display_name": "openai",
   "language": "python",
   "name": "python3"
  },
  "language_info": {
   "codemirror_mode": {
    "name": "ipython",
    "version": 3
   },
   "file_extension": ".py",
   "mimetype": "text/x-python",
   "name": "python",
   "nbconvert_exporter": "python",
   "pygments_lexer": "ipython3",
   "version": "3.12.2"
  }
 },
 "nbformat": 4,
 "nbformat_minor": 2
}
